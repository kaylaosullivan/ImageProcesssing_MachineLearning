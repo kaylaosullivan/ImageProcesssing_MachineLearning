{
 "cells": [
  {
   "cell_type": "code",
   "execution_count": 42,
   "metadata": {},
   "outputs": [],
   "source": [
    "import numpy as np\n",
    "import math\n",
    "import matplotlib.pyplot as plt\n",
    "import csv\n",
    "from sklearn.model_selection import cross_val_score\n",
    "from sklearn  import svm"
   ]
  },
  {
   "cell_type": "code",
   "execution_count": 4,
   "metadata": {},
   "outputs": [],
   "source": [
    "# Function to create prediction output in proper format\n",
    "def create_output(predicted_classes,filename):\n",
    "    ids = np.array([str(i) for i in range(0,len(predicted_classes))],dtype=object)\n",
    "    ids = np.insert(ids,0,'Id')\n",
    "    test_submit = np.insert(predicted_classes,0,'Category')\n",
    "    test_submit = np.transpose(np.vstack((ids,test_submit)))\n",
    "    \n",
    "    with open('Predictions/'+filename+'.csv', 'w',newline='') as f:\n",
    "        csv.writer(f).writerows(test_submit)"
   ]
  },
  {
   "cell_type": "code",
   "execution_count": 5,
   "metadata": {},
   "outputs": [],
   "source": [
    "# Load Resized Images\n",
    "train_images = np.load('ResizedTrain.npy',encoding='latin1')\n",
    "test_images = np.load('ResizedTest.npy',encoding='latin1')\n",
    "train_classes = np.loadtxt(\"train_labels.csv\", delimiter=',',dtype=object, skiprows=1)[:,1]"
   ]
  },
  {
   "cell_type": "markdown",
   "metadata": {},
   "source": [
    "# Linear SVM"
   ]
  },
  {
   "cell_type": "code",
   "execution_count": 6,
   "metadata": {},
   "outputs": [],
   "source": [
    "def linearSVM(Cs, features, classes, nfolds=5):\n",
    "    score_array = []\n",
    "    \n",
    "    for c in Cs:\n",
    "        clf = LinearSVC(C=c)\n",
    "        scores = cross_val_score(clf, features, classes, cv=nfolds)\n",
    "        print(\"C \", c,\": \",np.mean(scores))\n",
    "        score_array.append([c,np.mean(scores)])\n",
    "    \n",
    "    return score_array       \n",
    "        "
   ]
  },
  {
   "cell_type": "markdown",
   "metadata": {},
   "source": [
    "### Preprocessed Data\n"
   ]
  },
  {
   "cell_type": "code",
   "execution_count": 38,
   "metadata": {},
   "outputs": [
    {
     "name": "stdout",
     "output_type": "stream",
     "text": [
      "C  1e-15 :  0.23942999975407248\n",
      "C  1e-14 :  0.34532781798654133\n",
      "C  1e-13 :  0.4268948618275704\n",
      "C  1e-12 :  0.44241925222190936\n",
      "C  1e-11 :  0.4176226473538617\n",
      "C  1e-10 :  0.3648126399842525\n",
      "C  1e-09 :  0.31522779476605944\n",
      "C  1e-08 :  0.2688326074592281\n",
      "C  1e-07 :  0.2792848367338112\n",
      "C  1e-06 :  0.27389603887187447\n",
      "C  1e-05 :  0.270561726999967\n",
      "C  0.0001 :  0.26498078420956106\n",
      "C  0.01 :  0.25879699956938473\n",
      "C  0.1 :  0.2654988026877455\n",
      "C  1 :  0.2725822602332045\n",
      "C  10 :  0.2701369846136684\n",
      "C  100 :  0.2670335790324817\n",
      "C  1000 :  0.2653380603599467\n",
      "C  10000 :  0.27240232080381777\n"
     ]
    }
   ],
   "source": [
    "# First hyper parameters tested for resized images\n",
    "c = [1e-15,1e-14,1e-13,1e-12,1e-11,1e-10,1e-9,1e-8,1e-7,1e-6,1e-5,0.0001,0.01,0.1,1,10,100,1000,10000]\n",
    "scores2 = linearSVM(c,train_images,train_classes)"
   ]
  },
  {
   "cell_type": "code",
   "execution_count": 41,
   "metadata": {},
   "outputs": [
    {
     "data": {
      "text/plain": [
       "[<matplotlib.lines.Line2D at 0x275bac4f908>]"
      ]
     },
     "execution_count": 41,
     "metadata": {},
     "output_type": "execute_result"
    },
    {
     "data": {
      "image/png": "[encoded data removed]",
      "text/plain": [
       "<Figure size 432x288 with 1 Axes>"
      ]
     },
     "metadata": {},
     "output_type": "display_data"
    }
   ],
   "source": [
    "# Plot of first hyper parameter test\n",
    "scores2 = np.array(scores2)\n",
    "plt.semilogx(scores2[:,0],scores2[:,1], 'b-o')"
   ]
  },
  {
   "cell_type": "code",
   "execution_count": 42,
   "metadata": {},
   "outputs": [
    {
     "name": "stdout",
     "output_type": "stream",
     "text": [
      "C  1e-13 :  0.4268948618275704\n",
      "C  2e-13 :  0.43869829196857363\n",
      "C  3e-13 :  0.442908855646546\n",
      "C  4e-13 :  0.44511743445031343\n",
      "C  5e-13 :  0.44531861138051443\n",
      "C  6e-13 :  0.44601816470587013\n",
      "C  7e-13 :  0.4459195791573568\n",
      "C  8e-13 :  0.4445187148746899\n",
      "C  9e-13 :  0.4433172307294872\n",
      "C  1e-12 :  0.44241925222190936\n",
      "C  2e-12 :  0.43841135062469405\n",
      "C  3e-12 :  0.4338137343443088\n",
      "C  4e-12 :  0.43201864354499964\n",
      "C  5e-12 :  0.429219724069349\n"
     ]
    }
   ],
   "source": [
    "# Second more precise hyper parameters tested for resized images\n",
    "c = [1e-13,2e-13,3e-13,4e-13,5e-13,6e-13,7e-13,8e-13,9e-13,1e-12,2e-12,3e-12,4e-12,5e-12]\n",
    "scores3 = linearSVM(c,train_images,train_classes)"
   ]
  },
  {
   "cell_type": "code",
   "execution_count": 58,
   "metadata": {},
   "outputs": [
    {
     "data": {
      "image/png": "[encoded data removed]",
      "text/plain": [
       "<Figure size 432x288 with 1 Axes>"
      ]
     },
     "metadata": {},
     "output_type": "display_data"
    }
   ],
   "source": [
    "# Plot all hyperparameters tested on resized images\n",
    "scores = np.vstack((scores3,scores2))\n",
    "plt.semilogx(scores[:,0],scores[:,1], 'bo')\n",
    "plt.xlabel(\"Cost Parameter (C) Value\")\n",
    "plt.ylabel(\"Cross-Validation Accuracy\")\n",
    "plt.rcParams.update({'font.size': 15})\n",
    "plt.grid()"
   ]
  },
  {
   "cell_type": "code",
   "execution_count": 29,
   "metadata": {},
   "outputs": [],
   "source": [
    "# Training linear SVM with best hyper parameter and predicting test classes\n",
    "clf = LinearSVC(C=6e-13)\n",
    "clf.fit(train_images, train_classes)\n",
    "SVM_prediction = clf.predict(test_images)"
   ]
  },
  {
   "cell_type": "code",
   "execution_count": 30,
   "metadata": {},
   "outputs": [
    {
     "data": {
      "text/plain": [
       "array(['panda', 'penguin', 'moustache', ..., 'rifle', 'pineapple', 'mug'],\n",
       "      dtype=object)"
      ]
     },
     "execution_count": 30,
     "metadata": {},
     "output_type": "execute_result"
    }
   ],
   "source": [
    "create_output(SVM_prediction,\"finalSVM\")"
   ]
  },
  {
   "cell_type": "code",
   "execution_count": null,
   "metadata": {},
   "outputs": [],
   "source": []
  },
  {
   "cell_type": "markdown",
   "metadata": {},
   "source": [
    "### Unprocessed Data (for comparison)"
   ]
  },
  {
   "cell_type": "code",
   "execution_count": 7,
   "metadata": {},
   "outputs": [],
   "source": [
    "# Load unprocessed data\n",
    "train_images1 = np.load('train_images.npy',encoding='latin1')[:,1]\n",
    "test_images1 = np.load('test_images.npy',encoding='latin1')[:,1]"
   ]
  },
  {
   "cell_type": "code",
   "execution_count": null,
   "metadata": {},
   "outputs": [],
   "source": [
    "# Shape images to work with Linear SVM function\n",
    "reshaped_train = []\n",
    "reshaped_test = []\n",
    "\n",
    "for arr in train_images1:\n",
    "    reshaped_train.append(arr)\n",
    "for arr in test_images1:\n",
    "    reshaped_test.append(arr)\n",
    "    \n",
    "reshaped_train = np.array(reshaped_train)\n",
    "reshaped_test = np.array(reshaped_test)"
   ]
  },
  {
   "cell_type": "code",
   "execution_count": 13,
   "metadata": {},
   "outputs": [
    {
     "name": "stdout",
     "output_type": "stream",
     "text": [
      "C  1e-15 :  0.05710067742696967\n",
      "C  1e-14 :  0.05710067742696967\n",
      "C  1e-13 :  0.05710067742696967\n",
      "C  1e-12 :  0.05710067742696967\n",
      "C  1e-11 :  0.05710067742696967\n",
      "C  1e-10 :  0.055894422894335195\n",
      "C  1e-09 :  0.04859423630367814\n",
      "C  1e-08 :  0.043293131621160386\n",
      "C  1e-07 :  0.038790070942127754\n",
      "C  1e-06 :  0.03788631008395575\n",
      "C  1e-05 :  0.038285616756688116\n",
      "C  0.0001 :  0.03838526975866302\n",
      "C  0.01 :  0.03838526975866302\n",
      "C  0.1 :  0.03838526975866302\n",
      "C  1 :  0.03838526975866302\n",
      "C  10 :  0.03838526975866302\n",
      "C  100 :  0.03838526975866302\n",
      "C  1000 :  0.03838526975866302\n",
      "C  10000 :  0.03838526975866302\n"
     ]
    }
   ],
   "source": [
    "# Test various hyper-parameters on unprocessed data\n",
    "c = [1e-15,1e-14,1e-13,1e-12,1e-11,1e-10,1e-9,1e-8,1e-7,1e-6,1e-5,0.0001,0.01,0.1,1,10,100,1000,10000]\n",
    "scorespre2 = linearSVM(c,reshaped_train,train_classes)"
   ]
  },
  {
   "cell_type": "code",
   "execution_count": 24,
   "metadata": {},
   "outputs": [
    {
     "data": {
      "image/png": "[encoded data removed]",
      "text/plain": [
       "<Figure size 432x288 with 1 Axes>"
      ]
     },
     "metadata": {},
     "output_type": "display_data"
    }
   ],
   "source": [
    "# Plot performance\n",
    "plt.semilogx(np.array(scorespre2)[:,0],np.array(scorespre2)[:,1], 'mo')\n",
    "plt.xlabel(\"Cost Parameter (C) Value\")\n",
    "plt.ylabel(\"Cross-Validation Accuracy\")\n",
    "plt.rcParams.update({'font.size': 15})\n",
    "plt.grid()"
   ]
  },
  {
   "cell_type": "code",
   "execution_count": 43,
   "metadata": {},
   "outputs": [],
   "source": [
    "# Train with best hyperparameter\n",
    "clf = LinearSVC(C=6e-13)\n",
    "clf.fit(np.array(reshaped_train), train_classes)\n",
    "SVM_prediction_not_pre = clf.predict(reshaped_test)"
   ]
  },
  {
   "cell_type": "code",
   "execution_count": 35,
   "metadata": {},
   "outputs": [],
   "source": [
    "# Create output\n",
    "create_output(SVM_prediction_not_pre, \"SVM_unprocessed\")"
   ]
  }
 ],
 "metadata": {
  "kernelspec": {
   "display_name": "Python 3",
   "language": "python",
   "name": "python3"
  },
  "language_info": {
   "codemirror_mode": {
    "name": "ipython",
    "version": 3
   },
   "file_extension": ".py",
   "mimetype": "text/x-python",
   "name": "python",
   "nbconvert_exporter": "python",
   "pygments_lexer": "ipython3",
   "version": "3.6.5"
  }
 },
 "nbformat": 4,
 "nbformat_minor": 2
}
