{
 "cells": [
  {
   "cell_type": "code",
   "execution_count": 13,
   "metadata": {},
   "outputs": [],
   "source": [
    "import numpy as np\n",
    "import math\n",
    "import matplotlib.pyplot as plt\n",
    "import cv2"
   ]
  },
  {
   "cell_type": "markdown",
   "metadata": {},
   "source": [
    "### Functions"
   ]
  },
  {
   "cell_type": "code",
   "execution_count": 14,
   "metadata": {},
   "outputs": [],
   "source": [
    "def resize_image(image,size): # Returns 1D array length size*size\n",
    "    if len(image) == 10000:\n",
    "        image = image.reshape(100,100)\n",
    "        \n",
    "    ilist, jlist = [], []\n",
    "\n",
    "    for i in range(100):\n",
    "        if (np.sum(image[i]) != 0): #save rows with pixels in them\n",
    "            ilist.append(i)\n",
    "        \n",
    "    for j in range(100):\n",
    "        if (np.sum(image[:,j]) != 0): #save cols with pixels in them\n",
    "            jlist.append(j)\n",
    "    \n",
    "    \n",
    "    # If number of rows or cols is greater than desired size, \n",
    "    # find 28x28 matrix with highest concentration of pixels\n",
    "    maxsum = 0\n",
    "    maxx, maxy = ilist[0],jlist[0]\n",
    "    \n",
    "    for x in range(len(ilist)-size):\n",
    "        newsum = 0\n",
    "        for y in range(len(jlist)-size):\n",
    "            newsum = np.sum(image[ilist[x]:ilist[x]+size][jlist[y]:jlist[y]+size])\n",
    "            \n",
    "            if maxsum < newsum:\n",
    "                maxsum = newsum\n",
    "                maxx = ilist[x]\n",
    "                maxy = jlist[y]\n",
    "   \n",
    "    # Create new resized image (1D array)\n",
    "    newim = []\n",
    "    for i in range(size):\n",
    "        for j in range(size):\n",
    "            if maxx+i < 100 and maxy+j < 100:\n",
    "                newim.append(image[maxx+i][maxy+j])\n",
    "            else:\n",
    "                newim.append(0)\n",
    "          \n",
    "    return np.array(newim)\n",
    "    "
   ]
  },
  {
   "cell_type": "code",
   "execution_count": 15,
   "metadata": {},
   "outputs": [],
   "source": [
    "def largest_contour(contours, n=2): \n",
    "    areas = []\n",
    "\n",
    "    # Get the areas of all the contours\n",
    "    for i in range(len(contours)):\n",
    "        area = cv2.contourArea(contours[i])\n",
    "        areas.append(area)\n",
    "\n",
    "    # Sort areas by size\n",
    "    sortedareas = sorted(zip(areas, contours), key=lambda x: x[0], reverse=True)\n",
    "\n",
    "    #find 2nd largest contour (largest = square around image)\n",
    "    return sortedareas[n-1][1]"
   ]
  },
  {
   "cell_type": "code",
   "execution_count": 16,
   "metadata": {},
   "outputs": [],
   "source": [
    "def filter_image(img, thr=120, resize = True, plot = False, fill=False):\n",
    "    # Reshape image if not already done\n",
    "    if len(img) == 10000: \n",
    "        img = img.reshape(100,100)\n",
    "    image = img.copy()\n",
    "    \n",
    "    # Plot original Image\n",
    "    if plot == True:\n",
    "        plt.subplot(121),plt.imshow(np.uint8(255)-image,cmap='binary_r'),plt.title('Original')\n",
    "        \n",
    "    # Convert image to proper type, filter with the threshold, then find the contours\n",
    "    imgray = image.astype(np.uint8)\n",
    "    ret, thresh = cv2.threshold(imgray, thr, 255, cv2.THRESH_BINARY_INV)\n",
    "    im2, contours, hierarchy = cv2.findContours(thresh, cv2.RETR_TREE, cv2.CHAIN_APPROX_NONE)\n",
    "    \n",
    "    # Get the contour of the image and draw it\n",
    "    secondcontour = largest_contour(contours)\n",
    "    contoured = cv2.drawContours(image, secondcontour, -1, 255,2)\n",
    "    \n",
    "    # Plot the original image + contouring\n",
    "    if plot==True:\n",
    "        plt.subplot(122),plt.imshow(np.uint8(255)-contoured,cmap='binary_r'),plt.title('Original with Contouring')\n",
    "        plt.show()    \n",
    "    \n",
    "    # Remove Noise by multiplying original image by filled contour shaped\n",
    "    mask = np.zeros(image.shape, dtype='uint8')\n",
    "    bkg = cv2.fillPoly(mask, [secondcontour],255)\n",
    "    filtered_image = bkg*img.copy()\n",
    "    \n",
    "    # To test if filling is better (it isn't)\n",
    "    if fill == True: \n",
    "        filtered_image = bkg\n",
    "    \n",
    "    # Plot filtered image\n",
    "    if plot == True:\n",
    "        plt.subplot(121),plt.imshow(np.uint8(255)-filtered_image,cmap='binary_r'),plt.title('Filtered Image')\n",
    "    \n",
    "    # Resize Image to size 28x28\n",
    "    if resize == True:\n",
    "        resized_image = resize_image(filtered_image,28)\n",
    "        \n",
    "        if plot == True: # Plot resized image\n",
    "            plt.subplot(122),plt.imshow(np.uint8(255)-resized_image.reshape(28,28),cmap='gray'),plt.title('Final Resized Image')\n",
    "            plt.show()\n",
    "    \n",
    "    if resize == True: \n",
    "        return resized_image # 1D Array\n",
    "    else:\n",
    "        return filtered_image"
   ]
  },
  {
   "cell_type": "markdown",
   "metadata": {},
   "source": [
    "### Data Processing"
   ]
  },
  {
   "cell_type": "code",
   "execution_count": 6,
   "metadata": {},
   "outputs": [],
   "source": [
    "# Load Data\n",
    "train_images = np.load('train_images.npy',encoding='latin1')[:,1]\n",
    "test_images = np.load('test_images.npy',encoding='latin1')[:,1]"
   ]
  },
  {
   "cell_type": "code",
   "execution_count": 17,
   "metadata": {},
   "outputs": [
    {
     "data": {
      "image/png": "[encoded data removed]",
      "text/plain": [
       "<Figure size 432x288 with 2 Axes>"
      ]
     },
     "metadata": {},
     "output_type": "display_data"
    },
    {
     "data": {
      "image/png": "[encoded data removed]",
      "text/plain": [
       "<Figure size 432x288 with 2 Axes>"
      ]
     },
     "metadata": {},
     "output_type": "display_data"
    }
   ],
   "source": [
    "# Sample test \n",
    "sample = filter_image(train_images[3],plot=True)"
   ]
  },
  {
   "cell_type": "code",
   "execution_count": 9,
   "metadata": {},
   "outputs": [],
   "source": [
    "# Perform preprocessing on training images\n",
    "resized_train_imgs = []\n",
    "for im in train_images:\n",
    "    resized_train_imgs.append(filter_image(im))"
   ]
  },
  {
   "cell_type": "code",
   "execution_count": 10,
   "metadata": {},
   "outputs": [],
   "source": [
    "# Perform preprocessing on test images\n",
    "resized_test_imgs = []\n",
    "for im in test_images:\n",
    "    resized_test_imgs.append(filter_image(im))"
   ]
  },
  {
   "cell_type": "code",
   "execution_count": 11,
   "metadata": {},
   "outputs": [
    {
     "data": {
      "text/plain": [
       "<matplotlib.image.AxesImage at 0x2977f95e668>"
      ]
     },
     "execution_count": 11,
     "metadata": {},
     "output_type": "execute_result"
    },
    {
     "data": {
      "image/png": "[encoded data removed]",
      "text/plain": [
       "<Figure size 432x288 with 1 Axes>"
      ]
     },
     "metadata": {},
     "output_type": "display_data"
    }
   ],
   "source": [
    "# Testing a random resized image\n",
    "plt.imshow(resized_train_imgs[10].reshape(28,28))"
   ]
  },
  {
   "cell_type": "code",
   "execution_count": 12,
   "metadata": {},
   "outputs": [],
   "source": [
    "# Save the resized datasets\n",
    "np.save(open(\"ResizedTrain.npy\",\"wb\"), resized_train_imgs)\n",
    "np.save(open(\"ResizedTest.npy\",\"wb\"), resized_test_imgs)"
   ]
  },
  {
   "cell_type": "code",
   "execution_count": null,
   "metadata": {},
   "outputs": [],
   "source": []
  }
 ],
 "metadata": {
  "kernelspec": {
   "display_name": "Python 3",
   "language": "python",
   "name": "python3"
  },
  "language_info": {
   "codemirror_mode": {
    "name": "ipython",
    "version": 3
   },
   "file_extension": ".py",
   "mimetype": "text/x-python",
   "name": "python",
   "nbconvert_exporter": "python",
   "pygments_lexer": "ipython3",
   "version": "3.6.5"
  }
 },
 "nbformat": 4,
 "nbformat_minor": 2
}
